{
  "nbformat": 4,
  "nbformat_minor": 0,
  "metadata": {
    "colab": {
      "name": "nlp_7th.ipynb",
      "provenance": [],
      "collapsed_sections": [],
      "authorship_tag": "ABX9TyOu+N0bSUr4Eeb3fdpwE72T",
      "include_colab_link": true
    },
    "kernelspec": {
      "name": "python3",
      "display_name": "Python 3"
    },
    "language_info": {
      "name": "python"
    }
  },
  "cells": [
    {
      "cell_type": "markdown",
      "metadata": {
        "id": "view-in-github",
        "colab_type": "text"
      },
      "source": [
        "<a href=\"https://colab.research.google.com/github/ykkim77/nlp_7th/blob/main/nlp_7th.ipynb\" target=\"_parent\"><img src=\"https://colab.research.google.com/assets/colab-badge.svg\" alt=\"Open In Colab\"/></a>"
      ]
    },
    {
      "cell_type": "code",
      "metadata": {
        "id": "GWLKb2cEBUMY"
      },
      "source": [
        "import numpy as np\n",
        "import tensorflow as tf\n",
        "import keras\n",
        "\n",
        "from tensorflow.keras.layers import SimpleRNN\n",
        "from tensorflow.keras.layers import Input, Dense\n",
        "from tensorflow.keras.models import Model\n",
        "from tensorflow.keras.optimizers import Adam\n",
        "import tensorflow.keras.backend as K"
      ],
      "execution_count": 87,
      "outputs": []
    },
    {
      "cell_type": "code",
      "metadata": {
        "id": "WPRpgQ06CCNh"
      },
      "source": [
        "char2vec = {'h':np.array([1,0,0,0,0]),\n",
        "            'e':np.array([0,1,0,0,0]),\n",
        "            'l':np.array([0,0,1,0,0]),\n",
        "            'o':np.array([0,0,0,1,0]),\n",
        "            '<EOS>':np.array([0,0,0,0,1])}\n",
        "idx2char = ['h','e','l','o','<EOS>']"
      ],
      "execution_count": 88,
      "outputs": []
    },
    {
      "cell_type": "code",
      "metadata": {
        "colab": {
          "base_uri": "https://localhost:8080/"
        },
        "id": "Cx0uvQRmEGMX",
        "outputId": "dfee5dad-e1b4-4dc8-c7ce-7d4aff4e09ba"
      },
      "source": [
        "print(char2vec['l'])"
      ],
      "execution_count": 89,
      "outputs": [
        {
          "output_type": "stream",
          "text": [
            "[0 0 1 0 0]\n"
          ],
          "name": "stdout"
        }
      ]
    },
    {
      "cell_type": "code",
      "metadata": {
        "colab": {
          "base_uri": "https://localhost:8080/",
          "height": 35
        },
        "id": "m1AjVrq2EQQU",
        "outputId": "cc3af05a-1e85-4822-97fd-884ce4d8d480"
      },
      "source": [
        "idx2char[2]"
      ],
      "execution_count": 90,
      "outputs": [
        {
          "output_type": "execute_result",
          "data": {
            "application/vnd.google.colaboratory.intrinsic+json": {
              "type": "string"
            },
            "text/plain": [
              "'l'"
            ]
          },
          "metadata": {
            "tags": []
          },
          "execution_count": 90
        }
      ]
    },
    {
      "cell_type": "code",
      "metadata": {
        "id": "sv_sIpj7EURM"
      },
      "source": [
        "from tensorflow.keras.layers import Embedding\n"
      ],
      "execution_count": 91,
      "outputs": []
    },
    {
      "cell_type": "code",
      "metadata": {
        "id": "ReMSN813EZHi"
      },
      "source": [
        "tf.random.set_seed(1)\n",
        "inputs = Input(shape=())\n",
        "embeded = Embedding(input_dim=5, output_dim=2)(inputs)\n",
        "model = Model(inputs, embeded)"
      ],
      "execution_count": 92,
      "outputs": []
    },
    {
      "cell_type": "code",
      "metadata": {
        "colab": {
          "base_uri": "https://localhost:8080/"
        },
        "id": "GG35SX2mGo1G",
        "outputId": "80d302b3-f078-47c9-9873-f1e54dcf0b0a"
      },
      "source": [
        "model.summary()"
      ],
      "execution_count": 93,
      "outputs": [
        {
          "output_type": "stream",
          "text": [
            "Model: \"model_1\"\n",
            "_________________________________________________________________\n",
            "Layer (type)                 Output Shape              Param #   \n",
            "=================================================================\n",
            "input_3 (InputLayer)         [(None,)]                 0         \n",
            "_________________________________________________________________\n",
            "embedding (Embedding)        (None, 2)                 10        \n",
            "=================================================================\n",
            "Total params: 10\n",
            "Trainable params: 10\n",
            "Non-trainable params: 0\n",
            "_________________________________________________________________\n"
          ],
          "name": "stdout"
        }
      ]
    },
    {
      "cell_type": "code",
      "metadata": {
        "colab": {
          "base_uri": "https://localhost:8080/"
        },
        "id": "7JKRJ8lhGumD",
        "outputId": "b3eb8d67-f526-4daf-c0e6-58a552a4af23"
      },
      "source": [
        "model.layers[1].get_weights()"
      ],
      "execution_count": 94,
      "outputs": [
        {
          "output_type": "execute_result",
          "data": {
            "text/plain": [
              "[array([[-0.03348692,  0.04014813],\n",
              "        [ 0.01309742, -0.00654539],\n",
              "        [-0.0208061 ,  0.01425021],\n",
              "        [ 0.04757855, -0.00649005],\n",
              "        [ 0.01601019,  0.01048958]], dtype=float32)]"
            ]
          },
          "metadata": {
            "tags": []
          },
          "execution_count": 94
        }
      ]
    },
    {
      "cell_type": "code",
      "metadata": {
        "colab": {
          "base_uri": "https://localhost:8080/"
        },
        "id": "4YnpaOtAG_cJ",
        "outputId": "4495dd47-5c42-4f51-e3ea-c5abfcd90dad"
      },
      "source": [
        "model.predict([0])"
      ],
      "execution_count": 95,
      "outputs": [
        {
          "output_type": "stream",
          "text": [
            "WARNING:tensorflow:5 out of the last 8 calls to <function Model.make_predict_function.<locals>.predict_function at 0x7f7ca0ba17a0> triggered tf.function retracing. Tracing is expensive and the excessive number of tracings could be due to (1) creating @tf.function repeatedly in a loop, (2) passing tensors with different shapes, (3) passing Python objects instead of tensors. For (1), please define your @tf.function outside of the loop. For (2), @tf.function has experimental_relax_shapes=True option that relaxes argument shapes that can avoid unnecessary retracing. For (3), please refer to https://www.tensorflow.org/guide/function#controlling_retracing and https://www.tensorflow.org/api_docs/python/tf/function for  more details.\n"
          ],
          "name": "stdout"
        },
        {
          "output_type": "execute_result",
          "data": {
            "text/plain": [
              "array([[-0.03348692,  0.04014813]], dtype=float32)"
            ]
          },
          "metadata": {
            "tags": []
          },
          "execution_count": 95
        }
      ]
    },
    {
      "cell_type": "code",
      "metadata": {
        "id": "OO9gEJpvHqlQ"
      },
      "source": [
        "w_xh = np.array([[-2.6, -1.6, -2.1],\n",
        "                 [1.2, 0.4, 0.3],\n",
        "                 [2.1, 1.9, -0.7],\n",
        "                 [-1.4, -1.5, 2.5],\n",
        "                 [-0.9, 0.4, -0.9]])\n",
        "\n",
        "w_hh = np.array([[-0.5, -2.3, 2.9],\n",
        "                 [1.9, 1.5, 1.7],\n",
        "                 [-0.7, -1.2, 1.5]])\n",
        "\n",
        "b_h = np.array([-0.5, -0.4, -1.])\n",
        "\n",
        "w_hy = np.array([[ 0.3, -2.6, 1.2, 2.6, -1.1],\n",
        "                 [-1.1, -2.4, 2.2, 1.6, -2.4],\n",
        "                 [-0.4, -3.1, -3., 3.6, 3.]])\n",
        "\n",
        "b_y = np.array([-1.8, -0.5, 1.3, 0.1, 0.8])\n"
      ],
      "execution_count": 96,
      "outputs": []
    },
    {
      "cell_type": "code",
      "metadata": {
        "id": "k0sDdTpCKG44"
      },
      "source": [
        "def softmax(x):\n",
        "    return np.exp(x) / np.sum(np.exp(x), axis = -1)"
      ],
      "execution_count": 97,
      "outputs": []
    },
    {
      "cell_type": "markdown",
      "metadata": {
        "id": "ZznjFexuKbqg"
      },
      "source": [
        "# Time step 1"
      ]
    },
    {
      "cell_type": "code",
      "metadata": {
        "id": "9t81I0YUKVk9"
      },
      "source": [
        "init_h = np.array([0,0,0])\n",
        "x_0 = char2vec['h']\n",
        "a_1 = np.dot(init_h,w_hh) + np.dot(x_0,w_xh) + b_h\n",
        "h_1 = np.tanh(a_1)\n",
        "y_1 = np.dot(h_1, w_hy) + b_y\n",
        "o_1 = softmax(y_1)\n"
      ],
      "execution_count": 98,
      "outputs": []
    },
    {
      "cell_type": "code",
      "metadata": {
        "colab": {
          "base_uri": "https://localhost:8080/"
        },
        "id": "hxBvDbLTLbeY",
        "outputId": "89e41496-fb92-4276-f500-389b7fdb0541"
      },
      "source": [
        "print(\"1번째 timestep의 hidden: {}\".format(h_1) )\n",
        "print(\"1번째 timestep의 output: {}\".format(y_1) )\n",
        "print(\"1번째 timestep의 result: {}\".format(idx2char[np.argmax(o_1)]))"
      ],
      "execution_count": 99,
      "outputs": [
        {
          "output_type": "stream",
          "text": [
            "1번째 timestep의 hidden: [-0.99594936 -0.96402758 -0.99594936]\n",
            "1번째 timestep의 output: [-0.63997473  7.49057754  0.97184817 -7.61733016  1.22136241]\n",
            "1번째 timestep의 result: e\n"
          ],
          "name": "stdout"
        }
      ]
    },
    {
      "cell_type": "markdown",
      "metadata": {
        "id": "tk9B37miMPpZ"
      },
      "source": [
        "# time step 2"
      ]
    },
    {
      "cell_type": "code",
      "metadata": {
        "id": "SWDkbSq9ORZ4"
      },
      "source": [
        "x_1 = char2vec['e']\n",
        "a_2 = np.dot(h_1,w_hh) + np.dot(x_1,w_xh) + b_h\n",
        "h_2 = np.tanh(a_2)\n",
        "y_2 = np.dot(h_2, w_hy) + b_y\n",
        "o_2 = softmax(y_2)"
      ],
      "execution_count": 100,
      "outputs": []
    },
    {
      "cell_type": "code",
      "metadata": {
        "colab": {
          "base_uri": "https://localhost:8080/"
        },
        "id": "KDxVHpNLOyZz",
        "outputId": "6f1312b2-0e2b-484e-9df0-1e508f8bc638"
      },
      "source": [
        "print(\"2번째 timestep의 hidden: {}\".format(h_2) )\n",
        "print(\"2번째 timestep의 output: {}\".format(y_2) )\n",
        "print(\"2번째 timestep의 result: {}\".format(idx2char[np.argmax(o_2)]))"
      ],
      "execution_count": 101,
      "outputs": [
        {
          "output_type": "stream",
          "text": [
            "2번째 timestep의 hidden: [ 0.06340167  0.96673299 -0.99999709]\n",
            "2번째 timestep의 output: [-2.44438695  0.11498748  6.50288586 -1.78837242 -4.58989229]\n",
            "2번째 timestep의 result: l\n"
          ],
          "name": "stdout"
        }
      ]
    },
    {
      "cell_type": "markdown",
      "metadata": {
        "id": "LE5CtR21PR3P"
      },
      "source": [
        "# Tensorflow keras 를 이용한 RNN"
      ]
    },
    {
      "cell_type": "code",
      "metadata": {
        "id": "RStoqHfCPJmy"
      },
      "source": [
        "from tensorflow.keras.layers import Input, Dense, RNN\n",
        "from tensorflow.keras.layers import SimpleRNNCell"
      ],
      "execution_count": 102,
      "outputs": []
    },
    {
      "cell_type": "code",
      "metadata": {
        "id": "BzAeNSjAPaVe"
      },
      "source": [
        "n_inputs = 5\n",
        "n_steps = 5\n",
        "n_neurons = 3\n",
        "n_outputs = n_inputs"
      ],
      "execution_count": 103,
      "outputs": []
    },
    {
      "cell_type": "code",
      "metadata": {
        "id": "HH5Ov_wPPuMQ"
      },
      "source": [
        "inputs = Input(shape=(n_steps, n_inputs))\n",
        "hidden = RNN(SimpleRNNCell(n_neurons), return_sequences=True)(inputs)\n",
        "output = Dense(n_outputs, activation= 'softmax')(hidden)\n",
        "\n",
        "\n",
        "model = Model(inputs, output)"
      ],
      "execution_count": 104,
      "outputs": []
    },
    {
      "cell_type": "code",
      "metadata": {
        "colab": {
          "base_uri": "https://localhost:8080/"
        },
        "id": "iKOnWo5LQUSa",
        "outputId": "6eea1671-1ce3-41ae-fffa-cd044a56aaff"
      },
      "source": [
        "model.summary()"
      ],
      "execution_count": 105,
      "outputs": [
        {
          "output_type": "stream",
          "text": [
            "Model: \"model_2\"\n",
            "_________________________________________________________________\n",
            "Layer (type)                 Output Shape              Param #   \n",
            "=================================================================\n",
            "input_4 (InputLayer)         [(None, 5, 5)]            0         \n",
            "_________________________________________________________________\n",
            "rnn (RNN)                    (None, 5, 3)              27        \n",
            "_________________________________________________________________\n",
            "dense_1 (Dense)              (None, 5, 5)              20        \n",
            "=================================================================\n",
            "Total params: 47\n",
            "Trainable params: 47\n",
            "Non-trainable params: 0\n",
            "_________________________________________________________________\n"
          ],
          "name": "stdout"
        }
      ]
    },
    {
      "cell_type": "code",
      "metadata": {
        "id": "6CcP8ng9Qa1N"
      },
      "source": [
        "model.set_weights([w_xh,w_hh,b_h,w_hy,b_y])"
      ],
      "execution_count": 106,
      "outputs": []
    },
    {
      "cell_type": "code",
      "metadata": {
        "colab": {
          "base_uri": "https://localhost:8080/"
        },
        "id": "psryHIlXQ7F8",
        "outputId": "87dc1158-c669-4f8a-a640-1331c4f9aeb4"
      },
      "source": [
        "input_values = \"hello\"\n",
        "print(\"입력값: \", list(input_values))\n",
        "input_vecs = np.stack([char2vec[char]\n",
        "                      for char in input_values])[np.newaxis]\n",
        "\n",
        "result = model.predict(input_vecs)\n",
        "result_indices = np.argmax(result, axis=-1)[0]\n",
        "print(\"출력값: \", [idx2char[idx] for idx in result_indices])"
      ],
      "execution_count": 107,
      "outputs": [
        {
          "output_type": "stream",
          "text": [
            "입력값:  ['h', 'e', 'l', 'l', 'o']\n",
            "WARNING:tensorflow:6 out of the last 9 calls to <function Model.make_predict_function.<locals>.predict_function at 0x7f7c98c70b90> triggered tf.function retracing. Tracing is expensive and the excessive number of tracings could be due to (1) creating @tf.function repeatedly in a loop, (2) passing tensors with different shapes, (3) passing Python objects instead of tensors. For (1), please define your @tf.function outside of the loop. For (2), @tf.function has experimental_relax_shapes=True option that relaxes argument shapes that can avoid unnecessary retracing. For (3), please refer to https://www.tensorflow.org/guide/function#controlling_retracing and https://www.tensorflow.org/api_docs/python/tf/function for  more details.\n",
            "출력값:  ['e', 'l', 'l', 'o', '<EOS>']\n"
          ],
          "name": "stdout"
        }
      ]
    },
    {
      "cell_type": "markdown",
      "metadata": {
        "id": "S0FBX8VWTO4m"
      },
      "source": [
        "simple RNN 클래스를 활용한 RNN 모델"
      ]
    },
    {
      "cell_type": "code",
      "metadata": {
        "id": "xFctbj56R475"
      },
      "source": [
        "from tensorflow.keras.layers import SimpleRNN\n",
        "\n",
        "inputs = Input(shape=(n_steps, n_inputs))\n",
        "hidden = SimpleRNN(n_neurons, return_sequences=True)(inputs)\n",
        "output = Dense(n_outputs,activation='softmax')(hidden)"
      ],
      "execution_count": 108,
      "outputs": []
    },
    {
      "cell_type": "code",
      "metadata": {
        "id": "RNfJ3X2oT0Vy"
      },
      "source": [
        "model = Model(inputs, output)"
      ],
      "execution_count": 109,
      "outputs": []
    },
    {
      "cell_type": "code",
      "metadata": {
        "id": "WX1JJPetT5S2"
      },
      "source": [
        "model.set_weights([w_xh,w_hh,b_h,w_hy,b_y])"
      ],
      "execution_count": 110,
      "outputs": []
    },
    {
      "cell_type": "code",
      "metadata": {
        "colab": {
          "base_uri": "https://localhost:8080/"
        },
        "id": "QMJV2uW9UAa_",
        "outputId": "ca049539-e411-4b4e-db1b-3b3bce96c1e1"
      },
      "source": [
        "input_values = \"hello\"\n",
        "print(\"입력값: \", list(input_values))\n",
        "input_vecs = np.stack([char2vec[char]\n",
        "                      for char in input_values])[np.newaxis]\n",
        "\n",
        "result = model.predict(input_vecs)\n",
        "result_indices = np.argmax(result, axis=-1)[0]\n",
        "print(\"출력값: \", [idx2char[idx] for idx in result_indices])"
      ],
      "execution_count": 111,
      "outputs": [
        {
          "output_type": "stream",
          "text": [
            "입력값:  ['h', 'e', 'l', 'l', 'o']\n",
            "WARNING:tensorflow:7 out of the last 10 calls to <function Model.make_predict_function.<locals>.predict_function at 0x7f7c98c81440> triggered tf.function retracing. Tracing is expensive and the excessive number of tracings could be due to (1) creating @tf.function repeatedly in a loop, (2) passing tensors with different shapes, (3) passing Python objects instead of tensors. For (1), please define your @tf.function outside of the loop. For (2), @tf.function has experimental_relax_shapes=True option that relaxes argument shapes that can avoid unnecessary retracing. For (3), please refer to https://www.tensorflow.org/guide/function#controlling_retracing and https://www.tensorflow.org/api_docs/python/tf/function for  more details.\n",
            "출력값:  ['e', 'l', 'l', 'o', '<EOS>']\n"
          ],
          "name": "stdout"
        }
      ]
    },
    {
      "cell_type": "code",
      "metadata": {
        "id": "-zzN8D9utAPA"
      },
      "source": [
        "%matplotlib inline\n",
        "import numpy as np\n",
        "import tensorflow as tf\n",
        "\n",
        "import matplotlib.pyplot as plt"
      ],
      "execution_count": 112,
      "outputs": []
    },
    {
      "cell_type": "code",
      "metadata": {
        "id": "xlLrJSxMtLZw"
      },
      "source": [
        "def generate_timeseries(n_steps=50):\n",
        "    m_x = np.random.uniform(0,10)\n",
        "    xs = np.linspace(0,5, n_steps+1)\n",
        "    ys = np.array([0.5*np.sin(2*np.pi*(x+m_x))+ np.cos(3*np.pi/2*(x+m_x/4)) + np.random.uniform(-0.1,0.1) for x in xs])\n",
        "    return ys[:-1],ys[-1]"
      ],
      "execution_count": 113,
      "outputs": []
    },
    {
      "cell_type": "code",
      "metadata": {
        "colab": {
          "base_uri": "https://localhost:8080/",
          "height": 602
        },
        "id": "rdTUS32KuTRv",
        "outputId": "8bdd5f24-3854-42ad-f93b-8e9563344479"
      },
      "source": [
        "for _ in range(3):\n",
        "    xs, ys = generate_timeseries(n_steps=40)\n",
        "    timesteps = np.arange(len(xs)+1)\n",
        "    plt.figure(figsize=(10,3))\n",
        "    plt.plot(timesteps[:-1],xs)\n",
        "    plt.scatter(timesteps[-1],ys,c='r')\n",
        "    plt.show"
      ],
      "execution_count": 114,
      "outputs": [
        {
          "output_type": "display_data",
          "data": {
            "image/png": "[encoded data removed]",
            "text/plain": [
              "<Figure size 720x216 with 1 Axes>"
            ]
          },
          "metadata": {
            "tags": [],
            "needs_background": "light"
          }
        },
        {
          "output_type": "display_data",
          "data": {
            "image/png": "[encoded data removed]",
            "text/plain": [
              "<Figure size 720x216 with 1 Axes>"
            ]
          },
          "metadata": {
            "tags": [],
            "needs_background": "light"
          }
        },
        {
          "output_type": "display_data",
          "data": {
            "image/png": "[encoded data removed]",
            "text/plain": [
              "<Figure size 720x216 with 1 Axes>"
            ]
          },
          "metadata": {
            "tags": [],
            "needs_background": "light"
          }
        }
      ]
    },
    {
      "cell_type": "code",
      "metadata": {
        "id": "o24U96E4vxYw"
      },
      "source": [
        "K.clear_session()"
      ],
      "execution_count": 115,
      "outputs": []
    },
    {
      "cell_type": "code",
      "metadata": {
        "id": "iQvS0Rbnv9ER"
      },
      "source": [
        "n_inputs = 1\n",
        "n_steps  = 50\n",
        "n_neurons = 200\n",
        "n_outputs = n_inputs"
      ],
      "execution_count": 116,
      "outputs": []
    },
    {
      "cell_type": "code",
      "metadata": {
        "id": "k1EGJTvywHwi"
      },
      "source": [
        "inputs = Input(shape=(n_steps, n_inputs))\n",
        "hidden = SimpleRNN(n_neurons,return_state=False)(inputs)\n",
        "output = Dense(1)(hidden)"
      ],
      "execution_count": 117,
      "outputs": []
    },
    {
      "cell_type": "code",
      "metadata": {
        "id": "q83mFiRAwMXd"
      },
      "source": [
        "model = Model(inputs, output)"
      ],
      "execution_count": 118,
      "outputs": []
    },
    {
      "cell_type": "code",
      "metadata": {
        "colab": {
          "base_uri": "https://localhost:8080/"
        },
        "id": "EOo_4G2pwbqc",
        "outputId": "9870b29c-9d89-44d2-ccb9-8966cdf041e5"
      },
      "source": [
        "model.summary()"
      ],
      "execution_count": 119,
      "outputs": [
        {
          "output_type": "stream",
          "text": [
            "Model: \"model\"\n",
            "_________________________________________________________________\n",
            "Layer (type)                 Output Shape              Param #   \n",
            "=================================================================\n",
            "input_1 (InputLayer)         [(None, 50, 1)]           0         \n",
            "_________________________________________________________________\n",
            "simple_rnn (SimpleRNN)       (None, 200)               40400     \n",
            "_________________________________________________________________\n",
            "dense (Dense)                (None, 1)                 201       \n",
            "=================================================================\n",
            "Total params: 40,601\n",
            "Trainable params: 40,601\n",
            "Non-trainable params: 0\n",
            "_________________________________________________________________\n"
          ],
          "name": "stdout"
        }
      ]
    },
    {
      "cell_type": "code",
      "metadata": {
        "id": "5u35yluswh3J"
      },
      "source": [
        "model.compile(loss= 'mse', optimizer=Adam(lr=1e-4))"
      ],
      "execution_count": 120,
      "outputs": []
    },
    {
      "cell_type": "code",
      "metadata": {
        "id": "ognN8kjdwuD-"
      },
      "source": [
        "def timeseries_generator(n_steps = 50, batch_size = 32):\n",
        "    while True:\n",
        "        batch_xs, batch_ys = [], []\n",
        "        for _ in range(batch_size):\n",
        "            x, y = generate_timeseries(n_steps)\n",
        "            batch_xs.append(x[:,np.newaxis])\n",
        "            batch_ys.append(y[np.newaxis])\n",
        "            yield np.stack(batch_xs), np.stack(batch_ys)"
      ],
      "execution_count": 121,
      "outputs": []
    },
    {
      "cell_type": "code",
      "metadata": {
        "colab": {
          "base_uri": "https://localhost:8080/",
          "height": 265
        },
        "id": "6Ul3ZdO4xh-6",
        "outputId": "f40ac51b-a819-42da-8b83-2f38938523b4"
      },
      "source": [
        "train_gen = timeseries_generator(batch_size = 3)\n",
        "batch_x, batch_y = next(train_gen)\n",
        "\n",
        "for xs, y in zip(batch_x, batch_y):\n",
        "    plt.plot(xs)\n",
        "    plt.scatter(len(xs), y, c='r')\n",
        "    plt.show()"
      ],
      "execution_count": 122,
      "outputs": [
        {
          "output_type": "display_data",
          "data": {
            "image/png": "[encoded data removed]",
            "text/plain": [
              "<Figure size 432x288 with 1 Axes>"
            ]
          },
          "metadata": {
            "tags": [],
            "needs_background": "light"
          }
        }
      ]
    },
    {
      "cell_type": "code",
      "metadata": {
        "colab": {
          "base_uri": "https://localhost:8080/"
        },
        "id": "nbZyGFunyP6r",
        "outputId": "dbabfa97-d322-4aed-eeb6-a9be332ccb16"
      },
      "source": [
        "tarin_gen = timeseries_generator(n_steps, batch_size=16)\n",
        "hist = model.fit_generator(train_gen,steps_per_epoch= 20, epochs = 20 )"
      ],
      "execution_count": 123,
      "outputs": [
        {
          "output_type": "stream",
          "text": [
            "/usr/local/lib/python3.7/dist-packages/tensorflow/python/keras/engine/training.py:1844: UserWarning: `Model.fit_generator` is deprecated and will be removed in a future version. Please use `Model.fit`, which supports generators.\n",
            "  warnings.warn('`Model.fit_generator` is deprecated and '\n"
          ],
          "name": "stderr"
        },
        {
          "output_type": "stream",
          "text": [
            "Epoch 1/20\n",
            "20/20 [==============================] - 1s 15ms/step - loss: 0.5531\n",
            "Epoch 2/20\n",
            "20/20 [==============================] - 0s 16ms/step - loss: 0.0135\n",
            "Epoch 3/20\n",
            "20/20 [==============================] - 0s 14ms/step - loss: 0.0179\n",
            "Epoch 4/20\n",
            "20/20 [==============================] - 0s 14ms/step - loss: 0.0113\n",
            "Epoch 5/20\n",
            "20/20 [==============================] - 0s 14ms/step - loss: 0.0172\n",
            "Epoch 6/20\n",
            "20/20 [==============================] - 0s 14ms/step - loss: 0.0292\n",
            "Epoch 7/20\n",
            "20/20 [==============================] - 0s 14ms/step - loss: 0.0218\n",
            "Epoch 8/20\n",
            "20/20 [==============================] - 0s 14ms/step - loss: 0.0076\n",
            "Epoch 9/20\n",
            "20/20 [==============================] - 0s 16ms/step - loss: 0.0136\n",
            "Epoch 10/20\n",
            "20/20 [==============================] - 0s 13ms/step - loss: 0.0347\n",
            "Epoch 11/20\n",
            "20/20 [==============================] - 0s 15ms/step - loss: 0.0168\n",
            "Epoch 12/20\n",
            "20/20 [==============================] - 0s 14ms/step - loss: 0.0078\n",
            "Epoch 13/20\n",
            "20/20 [==============================] - 0s 14ms/step - loss: 0.0074\n",
            "Epoch 14/20\n",
            "20/20 [==============================] - 0s 15ms/step - loss: 0.0248\n",
            "Epoch 15/20\n",
            "20/20 [==============================] - 0s 14ms/step - loss: 0.0277\n",
            "Epoch 16/20\n",
            "20/20 [==============================] - 0s 15ms/step - loss: 0.0232\n",
            "Epoch 17/20\n",
            "20/20 [==============================] - 0s 13ms/step - loss: 0.0242\n",
            "Epoch 18/20\n",
            "20/20 [==============================] - 0s 14ms/step - loss: 0.0054\n",
            "Epoch 19/20\n",
            "20/20 [==============================] - 0s 14ms/step - loss: 0.0052\n",
            "Epoch 20/20\n",
            "20/20 [==============================] - 0s 13ms/step - loss: 0.0137\n"
          ],
          "name": "stdout"
        }
      ]
    },
    {
      "cell_type": "code",
      "metadata": {
        "colab": {
          "base_uri": "https://localhost:8080/",
          "height": 281
        },
        "id": "MbwEU1Svym6U",
        "outputId": "19548f44-e0b3-4d41-c06d-0cd6421a7fc1"
      },
      "source": [
        "plt.title(\"train loss\")\n",
        "plt.plot(hist.history['loss'])\n",
        "plt.show()"
      ],
      "execution_count": 124,
      "outputs": [
        {
          "output_type": "display_data",
          "data": {
            "image/png": "[encoded data removed]",
            "text/plain": [
              "<Figure size 432x288 with 1 Axes>"
            ]
          },
          "metadata": {
            "tags": [],
            "needs_background": "light"
          }
        }
      ]
    },
    {
      "cell_type": "code",
      "metadata": {
        "colab": {
          "base_uri": "https://localhost:8080/",
          "height": 636
        },
        "id": "Rt37uDBiy0Zt",
        "outputId": "46a0b10a-ccee-4238-e182-80e67cbec92d"
      },
      "source": [
        "for _ in range(3):\n",
        "    xs, y_true = generate_timeseries(n_steps)\n",
        "    timesteps = np.arange(len(xs)+1)\n",
        "\n",
        "    xs = xs[np.newaxis, :, np.newaxis]\n",
        "    y_pred = model.predict(xs).squeeze()\n",
        "\n",
        "    plt.figure(figsize=(10,3))\n",
        "    plt.plot(timesteps[:-1],xs.squeeze())\n",
        "\n",
        "\n",
        "    plt.scatter(timesteps[-1],y_true,c='g', marker = '+')\n",
        "    plt.scatter(timesteps[-1],y_pred,c='r', marker = '*')\n",
        "    plt.show()"
      ],
      "execution_count": 125,
      "outputs": [
        {
          "output_type": "stream",
          "text": [
            "WARNING:tensorflow:8 out of the last 11 calls to <function Model.make_predict_function.<locals>.predict_function at 0x7f7ca0f80170> triggered tf.function retracing. Tracing is expensive and the excessive number of tracings could be due to (1) creating @tf.function repeatedly in a loop, (2) passing tensors with different shapes, (3) passing Python objects instead of tensors. For (1), please define your @tf.function outside of the loop. For (2), @tf.function has experimental_relax_shapes=True option that relaxes argument shapes that can avoid unnecessary retracing. For (3), please refer to https://www.tensorflow.org/guide/function#controlling_retracing and https://www.tensorflow.org/api_docs/python/tf/function for  more details.\n"
          ],
          "name": "stdout"
        },
        {
          "output_type": "display_data",
          "data": {
            "image/png": "[encoded data removed]",
            "text/plain": [
              "<Figure size 720x216 with 1 Axes>"
            ]
          },
          "metadata": {
            "tags": [],
            "needs_background": "light"
          }
        },
        {
          "output_type": "display_data",
          "data": {
            "image/png": "[encoded data removed]",
            "text/plain": [
              "<Figure size 720x216 with 1 Axes>"
            ]
          },
          "metadata": {
            "tags": [],
            "needs_background": "light"
          }
        },
        {
          "output_type": "display_data",
          "data": {
            "image/png": "[encoded data removed]",
            "text/plain": [
              "<Figure size 720x216 with 1 Axes>"
            ]
          },
          "metadata": {
            "tags": [],
            "needs_background": "light"
          }
        }
      ]
    },
    {
      "cell_type": "code",
      "metadata": {
        "id": "-Tn94JYRzsf2"
      },
      "source": [
        ""
      ],
      "execution_count": 125,
      "outputs": []
    }
  ]
}